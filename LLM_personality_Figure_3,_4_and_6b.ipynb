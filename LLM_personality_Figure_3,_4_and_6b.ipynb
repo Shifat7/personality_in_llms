{
  "cells": [
    {
      "cell_type": "markdown",
      "metadata": {
        "id": "aEP0Vl2fBRqR"
      },
      "source": [
        "# Instructions\n",
        "\n",
        "This colab contains code used to generate the Figures 3, 4, and 6 in the paper \"Personality Traits in Large Language Models\" (https://arxiv.org/pdf/2307.00184). The code below assumes that all the data consumed in the colab (especially the pickled dataframes) lives in a local filesystem either in a cloud instance running a Jupyter notebook such as Google Colab or a desktop. But those file I/O operations can easily be replaced to use any other file management solutions. The inline comments for some of the operations explain the motivation behind them and what to expect in the results of running an analysis in a cell.\n",
        "\n",
        "To run this colab:\n",
        "1. Connect to an appropriate runtime. (For instance, if running the bulk inference directly from the colab, connect to a GPU kernel.)\n",
        "2. Check experiment parameters below.\n",
        "3. Run the code cells for analysis."
      ]
    },
    {
      "cell_type": "code",
      "execution_count": null,
      "metadata": {
        "id": "8MzkNbvb9t07"
      },
      "outputs": [],
      "source": [
        "%pip install plotly\n",
        "%pip install pandas\n",
        "%pip install scipy\n",
        "%pip install numpy\n",
        "%pip install pickle"
      ]
    },
    {
      "cell_type": "code",
      "execution_count": null,
      "metadata": {
        "id": "ALZK7B9KsHBm"
      },
      "outputs": [],
      "source": [
        "import plotly.express as px\n",
        "\n",
        "import pandas as pd"
      ]
    },
    {
      "cell_type": "code",
      "execution_count": null,
      "metadata": {
        "id": "V7HPd0lwsOX_"
      },
      "outputs": [],
      "source": [
        "#@markdown Locations of the dataframe that are the source for the figures\n",
        "CONVERGENT_VALIDITY_DF = 'figures_data/convergent_validity.pkl'\n",
        "EXTERNAL_VALIDITY_AGR_DF = 'figures_data/external_validity_AGR.pkl'\n",
        "EXTERNAL_VALIDITY_EXT_DF = 'figures_data/external_validity_EXT.pkl'\n",
        "EXTERNAL_VALIDITY_CON_DF = 'figures_data/external_validity_CON.pkl'\n",
        "EXTERNAL_VALIDITY_NEU_DF = 'figures_data/external_validity_NEU.pkl'\n",
        "EXTERNAL_VALIDITY_OPE_DF = 'figures_data/external_validity_OPE.pkl'\n",
        "MODEL_NAME_MAPPING = {\n",
        "    'palm_62b_q': 'PaLM 62B',\n",
        "    'flan_palm_8b_q': 'Flan-PaLM 8B',\n",
        "    'flan_palm_62b_q': 'Flan-PaLM 62B',\n",
        "    'flan_palm_540b_q': 'Flan-PaLM 540B',\n",
        "    'flan_palmchilla_62b_q': 'Flan-PaLMChilla 62B',\n",
        "}"
      ]
    },
    {
      "cell_type": "markdown",
      "metadata": {
        "id": "BGPWrS6jWE5K"
      },
      "source": [
        "## Fig 3: Convergent Correlations between IPIP-NEO and BFI scores by mode"
      ]
    },
    {
      "cell_type": "code",
      "execution_count": null,
      "metadata": {
        "id": "prOKoa8DV8ul"
      },
      "outputs": [],
      "source": [
        "raw_df = pd.read_pickle(CONVERGENT_VALIDITY_DF)\n",
        "\n",
        "plot_df = []\n",
        "for col in 'EXT\tAGR\tCON\tNEU\tOPE Avg'.split():\n",
        "  work_df = raw_df[['model_id', col]].rename({col: 'Correlation', 'model_id': 'Model'}, axis=1)\n",
        "  work_df['Measure'] = col\n",
        "  plot_df.append(work_df)\n",
        "\n",
        "plot_df = pd.concat(plot_df, axis=0, ignore_index=True)\n",
        "plot_df['Model'] = plot_df['Model'].map(MODEL_NAME_MAPPING)\n",
        "\n",
        "fig = px.histogram(plot_df, y='Correlation', color='Measure', x='Model', barmode='group',\n",
        "                   title='Convergent Correlations Between IPIP-NEO and BFI Scores, by Model',\n",
        "                   text_auto=True)\n",
        "fig.data[-1].update(\n",
        "    name='All correlations (averaged)',\n",
        "    error_y=dict(\n",
        "        type='data',\n",
        "        symmetric=True,\n",
        "        array=raw_df.set_index('model_id').astype(float).drop('Avg', axis=1).std(axis=1),\n",
        "    ))\n",
        "fig.update_layout(title_x=0.5)\n",
        "fig.update_yaxes(range=[-1, 1],\n",
        "                 title='Correlation')\n",
        "fig.update_layout(legend=dict(\n",
        "    orientation='h',\n",
        "    yanchor='bottom',\n",
        "    y=1.02,\n",
        "    xanchor='right',\n",
        "    x=1\n",
        "))\n",
        "fig"
      ]
    },
    {
      "cell_type": "markdown",
      "metadata": {
        "id": "3X5UA-KNIw1r"
      },
      "source": [
        "## Fig 4: Criterion validity evidence. IPIP-NEO correlation with all traits"
      ]
    },
    {
      "cell_type": "markdown",
      "metadata": {
        "id": "M9oi2cfTXCF0"
      },
      "source": [
        "#### Extraversion"
      ]
    },
    {
      "cell_type": "code",
      "execution_count": null,
      "metadata": {
        "id": "RT29LC2psvoq"
      },
      "outputs": [],
      "source": [
        "raw_df = pd.read_pickle(EXTERNAL_VALIDITY_EXT_DF)\n",
        "\n",
        "plot_df = []\n",
        "for col in 'Watson \u0026 Clark, 1992', 'palm_62b_q', 'flan_palm_8b_q', 'flan_palm_62b_q', 'flan_palmchilla_62b_q', 'flan_palm_540b_q':\n",
        "  work_df = raw_df[['Scale', col]].rename({col: 'Value'}, axis=1)\n",
        "  work_df['Model'] = col\n",
        "  plot_df.append(work_df)\n",
        "\n",
        "plot_df = pd.concat(plot_df, axis=0, ignore_index=True)\n",
        "plot_df = plot_df[plot_df['Scale'].str.strip().astype(bool)]\n",
        "plot_df['Model'] = plot_df['Model'].map(MODEL_NAME_MAPPING | {'Watson \u0026 Clark, 1992': 'Watson \u0026 Clark, 1992'})\n",
        "\n",
        "fig = px.histogram(plot_df, x='Model', color='Scale', y='Value', barmode='group',\n",
        "                   title='Correlations of IPIP-NEO Extraversion with Positive and Negative Affect, by model',\n",
        "                   text_auto=True)\n",
        "\n",
        "fig.update_layout(title_x=0.5)\n",
        "fig.update_yaxes(range=[-1, 1],\n",
        "                 title='Correlation')\n",
        "fig.update_layout(legend=dict(\n",
        "    orientation='h',\n",
        "    yanchor='bottom',\n",
        "    y=1.02,\n",
        "    xanchor='right',\n",
        "    x=1\n",
        "))\n",
        "fig.for_each_annotation(lambda a: a.update(font=dict(size=22)))\n",
        "fig.update_layout(font=dict(size=22), title=dict(text=''))\n",
        "fig.update_xaxes(tickangle=15)\n",
        "fig"
      ]
    },
    {
      "cell_type": "markdown",
      "metadata": {
        "id": "VOILy1WLLO7C"
      },
      "source": [
        "#### Aggreableness"
      ]
    },
    {
      "cell_type": "code",
      "execution_count": null,
      "metadata": {
        "id": "3QIb2pSkJVMu"
      },
      "outputs": [],
      "source": [
        "raw_df = pd.read_pickle(EXTERNAL_VALIDITY_AGR_DF)\n",
        "\n",
        "plot_df = []\n",
        "for col in 'palm_62b_q', 'flan_palm_8b_q', 'flan_palm_62b_q', 'flan_palmchilla_62b_q', 'flan_palm_540b_q':\n",
        "  work_df = raw_df[['Scale', col]].rename({col: 'Value'}, axis=1)\n",
        "  work_df['Model'] = col\n",
        "  plot_df.append(work_df)\n",
        "\n",
        "plot_df = pd.concat(plot_df, axis=0, ignore_index=True)\n",
        "plot_df = plot_df[plot_df['Scale'].str.strip().astype(bool)]\n",
        "plot_df['Model'] = plot_df['Model'].map(MODEL_NAME_MAPPING | {})\n",
        "\n",
        "fig = px.histogram(plot_df, x='Model', y='Value', color='Scale', barmode='group',\n",
        "                   title='Correlations of IPIP Agreeableness with BPAQ aggression scales, by model',\n",
        "                   text_auto=True)\n",
        "fig.update_layout(title_x=0.5)\n",
        "fig.update_yaxes(range=[-1, 1],\n",
        "                 title='Correlation')\n",
        "fig.update_layout(legend=dict(\n",
        "    orientation='h',\n",
        "    yanchor='bottom',\n",
        "    y=1.02,\n",
        "    xanchor='right',\n",
        "    x=1\n",
        "))\n",
        "fig.for_each_annotation(lambda a: a.update(font=dict(size=22)))\n",
        "fig.update_layout(font=dict(size=22), title=dict(text=''))\n",
        "fig.update_xaxes(tickangle=15)\n",
        "fig"
      ]
    },
    {
      "cell_type": "markdown",
      "metadata": {
        "id": "tJdSFNknPpzr"
      },
      "source": [
        "#### Conscientiousness"
      ]
    },
    {
      "cell_type": "code",
      "execution_count": null,
      "metadata": {
        "id": "P0WcOwerLfY0"
      },
      "outputs": [],
      "source": [
        "raw_df = pd.read_pickle(EXTERNAL_VALIDITY_CON_DF)\n",
        "\n",
        "plot_df = []\n",
        "for col in 'palm_62b_q', 'flan_palm_8b_q', 'flan_palm_62b_q', 'flan_palmchilla_62b_q', 'flan_palm_540b_q':\n",
        "  work_df = raw_df[['Scale', col]].rename({col: 'Value'}, axis=1)\n",
        "  work_df['Model'] = col\n",
        "  plot_df.append(work_df)\n",
        "\n",
        "plot_df = pd.concat(plot_df, axis=0, ignore_index=True)\n",
        "plot_df = plot_df[plot_df['Scale'].str.strip().astype(bool)]\n",
        "plot_df['Model'] = plot_df['Model'].map(MODEL_NAME_MAPPING)\n",
        "\n",
        "fig = px.histogram(plot_df, x='Model', y='Value', color='Scale', barmode='group',\n",
        "                   title='Correlations of IPIP Conscientiousness with related human values, by model',\n",
        "                   text_auto=True)\n",
        "fig.update_layout(title_x=0.5)\n",
        "fig.update_yaxes(range=[-1, 1],\n",
        "                 title='Correlation')\n",
        "fig.update_layout(legend=dict(\n",
        "    orientation='h',\n",
        "    yanchor='bottom',\n",
        "    y=1.02,\n",
        "    xanchor='right',\n",
        "    x=1\n",
        "))\n",
        "fig.for_each_annotation(lambda a: a.update(font=dict(size=22)))\n",
        "fig.update_layout(font=dict(size=22), title=dict(text=''))\n",
        "fig.update_xaxes(tickangle=15)\n",
        "fig"
      ]
    },
    {
      "cell_type": "markdown",
      "metadata": {
        "id": "f_ASu9r2QFnv"
      },
      "source": [
        "#### Neuroticism"
      ]
    },
    {
      "cell_type": "code",
      "execution_count": null,
      "metadata": {
        "id": "UcMkCsBHP-FV"
      },
      "outputs": [],
      "source": [
        "raw_df = pd.read_pickle(EXTERNAL_VALIDITY_NEU_DF)\n",
        "\n",
        "plot_df = []\n",
        "for col in 'Watson \u0026 Clark, 1992', 'palm_62b_q', 'flan_palm_8b_q', 'flan_palm_62b_q', 'flan_palmchilla_62b_q', 'flan_palm_540b_q':\n",
        "  work_df = raw_df[['Scale', col]].rename({col: 'Value'}, axis=1)\n",
        "  work_df['Model'] = col\n",
        "  plot_df.append(work_df)\n",
        "\n",
        "plot_df = pd.concat(plot_df, axis=0, ignore_index=True)\n",
        "plot_df = plot_df[plot_df['Scale'].str.strip().astype(bool)]\n",
        "plot_df['Model'] = plot_df['Model'].map(MODEL_NAME_MAPPING | {'Watson \u0026 Clark, 1992': 'Watson \u0026 Clark, 1992'})\n",
        "\n",
        "fig = px.histogram(plot_df, x='Model', y='Value', color='Scale', barmode='group',\n",
        "                   title='Correlations of IPIP Neuroticism with PA and NA, by model',\n",
        "                   text_auto=True)\n",
        "fig.update_layout(title_x=0.5)\n",
        "fig.update_yaxes(range=[-1, 1],\n",
        "                 title='Correlation')\n",
        "fig.update_layout(legend=dict(\n",
        "    orientation='h',\n",
        "    yanchor='bottom',\n",
        "    y=1.02,\n",
        "    xanchor='right',\n",
        "    x=1\n",
        "))\n",
        "fig.for_each_annotation(lambda a: a.update(font=dict(size=22)))\n",
        "fig.update_layout(font=dict(size=22), title=dict(text=''))\n",
        "fig.update_xaxes(tickangle=25)\n",
        "fig"
      ]
    },
    {
      "cell_type": "markdown",
      "metadata": {
        "id": "Ja89JEqtQtEj"
      },
      "source": [
        "#### Openness"
      ]
    },
    {
      "cell_type": "code",
      "execution_count": null,
      "metadata": {
        "id": "4xmRKygMQN4M"
      },
      "outputs": [],
      "source": [
        "raw_df = pd.read_pickle(EXTERNAL_VALIDITY_OPE_DF)\n",
        "\n",
        "plot_df = []\n",
        "for col in 'palm_62b_q', 'flan_palm_8b_q', 'flan_palm_62b_q', 'flan_palmchilla_62b_q', 'flan_palm_540b_q':\n",
        "  work_df = raw_df[['Scale', col]].rename({col: 'Value'}, axis=1)\n",
        "  work_df['Model'] = col\n",
        "  plot_df.append(work_df)\n",
        "\n",
        "plot_df = pd.concat(plot_df, axis=0, ignore_index=True)\n",
        "plot_df = plot_df[plot_df['Scale'].str.strip().astype(bool)]\n",
        "plot_df['Model'] = plot_df['Model'].map(MODEL_NAME_MAPPING)\n",
        "\n",
        "fig = px.histogram(plot_df, x='Model', y='Value', color='Scale', barmode='group',\n",
        "                   title='Correlations of IPIP Openness with creativity scales, by model',\n",
        "                   text_auto=True)\n",
        "\n",
        "fig.update_layout(title_x=0.5)\n",
        "fig.update_yaxes(range=[-1, 1],\n",
        "                 title='Correlation')\n",
        "fig.update_layout(legend=dict(\n",
        "    orientation='h',\n",
        "    yanchor='bottom',\n",
        "    y=1.02,\n",
        "    xanchor='right',\n",
        "    x=1\n",
        "))\n",
        "fig.for_each_annotation(lambda a: a.update(font=dict(size=22)))\n",
        "fig.update_layout(font=dict(size=22), title=dict(text=''))\n",
        "fig.update_xaxes(tickangle=15)\n",
        "fig"
      ]
    },
    {
      "cell_type": "markdown",
      "metadata": {
        "id": "V1ZZb6F9mfQN"
      },
      "source": [
        "## Fig 6b: IPIP-NEO Relevance to Generated Text"
      ]
    },
    {
      "cell_type": "code",
      "execution_count": null,
      "metadata": {
        "id": "4eV_8KsuoKly"
      },
      "outputs": [],
      "source": [
        "raw_data_llm = \"\"\"[{\"index\":0,\"Variable1\":\"IPIP300-EXT\",\"Variable2\":\"ams-IPIP300-EXT\",\"pearson\":0.5778892465339398,\"pearson_p\":1.2052054711338261e-200,\"spearman\":0.5779114129466953,\"spearman_p\":1.1541629435322971e-200},{\"index\":1,\"Variable1\":\"IPIP300-AGR\",\"Variable2\":\"ams-IPIP300-AGR\",\"pearson\":0.6741851211419059,\"pearson_p\":3.399372260086691e-298,\"spearman\":0.6122784687197989,\"spearman_p\":1.252372624796226e-231},{\"index\":2,\"Variable1\":\"IPIP300-CON\",\"Variable2\":\"ams-IPIP300-CON\",\"pearson\":0.5395665544984065,\"pearson_p\":3.379961176444279e-170,\"spearman\":0.6162234916929736,\"spearman_p\":1.9753235475172855e-235},{\"index\":3,\"Variable1\":\"IPIP300-NEU\",\"Variable2\":\"ams-IPIP300-NEU\",\"pearson\":0.5886821617265545,\"pearson_p\":5.713724053146592e-210,\"spearman\":0.6137409703770154,\"spearman_p\":4.9488728930903925e-233},{\"index\":4,\"Variable1\":\"IPIP300-OPE\",\"Variable2\":\"ams-IPIP300-OPE\",\"pearson\":0.3780319835499575,\"pearson_p\":2.344533227977254e-77,\"spearman\":0.44489890013553535,\"spearman_p\":8.100016932050919e-110}]\"\"\"\n",
        "\n",
        "plot_df = pd.read_json(raw_data_llm)\n",
        "plot_df['Measure'] = plot_df['Variable1'].apply(lambda s: s.split('-')[1])\n",
        "plot_df = plot_df[['Measure', 'pearson']]\n",
        "plot_df['Respondent'] = 'Flan-PaLM 540B'\n",
        "\n",
        "plot_df = pd.concat([plot_df, pd.DataFrame({'Respondent': ['Human', 'Human', 'Human', 'Human', 'Human'],\n",
        "                                            'Measure': ['EXT', 'AGR', 'CON', 'NEU', 'OPE'], 'pearson': [0.42, 0.35, 0.37, 0.35, 0.43]})], ignore_index=True)\n",
        "plot_df = plot_df.round(2)\n",
        "\n",
        "\n",
        "fig = px.histogram(\n",
        "    plot_df, x='Measure', y='pearson', color='Respondent', pattern_shape='Respondent', barmode='group',\n",
        "    title='Accuracy of IPIP-NEO Scores in Predicting Personality Observed in Social Media Status Updates',\n",
        "    text_auto=True)\n",
        "\n",
        "fig.update_layout(title_x=0.5)\n",
        "fig.update_yaxes(\n",
        "    range=[0, 1],\n",
        "    title=\"Pearson's \u003ci\u003er\u003c/i\u003e\")\n",
        "fig.update_layout(legend=dict(\n",
        "    orientation='h',\n",
        "    yanchor='bottom',\n",
        "    y=1.02,\n",
        "    xanchor='right',\n",
        "    x=1\n",
        "))\n",
        "fig.for_each_annotation(lambda a: a.update(font=dict(size=22)))\n",
        "fig.update_layout(font=dict(size=22), title=dict(text=''))\n",
        "fig.update_xaxes(tickangle=15)\n",
        "fig"
      ]
    }
  ],
  "metadata": {
    "colab": {
      "provenance": []
    },
    "kernelspec": {
      "display_name": "Python 3",
      "name": "python3"
    },
    "language_info": {
      "name": "python"
    }
  },
  "nbformat": 4,
  "nbformat_minor": 0
}
