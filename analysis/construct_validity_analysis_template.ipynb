{
 "cells": [
  {
   "cell_type": "markdown",
   "id": "9c7781c8",
   "metadata": {},
   "source": [
    "# Setup\n",
    "This template can be used to analyze the construct validity of a given model's personality test data.\n",
    "\n",
    "1. Specify your model's full results pickle file, JSON `admin_session`, and identifier (model pointer), below.\n",
    "2. If you'd like to save the test scores for further analysis, specify a `SAVE_SCORES_FILENAME`.\n",
    "3. Run this notebook in `personality_in_llms/analysis` "
   ]
  },
  {
   "cell_type": "code",
   "execution_count": null,
   "id": "4b886857",
   "metadata": {
    "tags": [
     "parameters"
    ]
   },
   "outputs": [],
   "source": [
    "# path to directory containing psyborgs\n",
    "# this default path should work if you've cloned the repo\n",
    "PATH = \"../\"\n",
    "\n",
    "# path of pickled results to be analyzed\n",
    "PKL_PATH = \"../results/\" + \"your_results_here.pkl\"\n",
    "\n",
    "# admin_session filename\n",
    "ADMIN_SESSION_PATH = \"../admin_sessions/\" + \"prod_run_01_external_rating.json\"\n",
    "\n",
    "# identifier for the model to be analyzed. must match the `model_id` field in\n",
    "# the results file (e.g., \"meta-llama/Llama-2-13b-chat-hf\")\n",
    "MODEL_POINTER = \"mistralai/Mixtral-8x7B-Instruct-v0.1\"\n",
    "\n",
    "# save joined test scores? If no, leave `False`\n",
    "SAVE_SCORES_FILENAME = False"
   ]
  },
  {
   "cell_type": "markdown",
   "id": "8734dfe8",
   "metadata": {},
   "source": [
    "## Load Dependencies"
   ]
  },
  {
   "cell_type": "code",
   "execution_count": null,
   "id": "ad809ffe",
   "metadata": {},
   "outputs": [],
   "source": [
    "import pandas as pd\n",
    "import numpy as np\n",
    "from scipy.stats import pearsonr\n",
    "import matplotlib.pyplot as plt\n",
    "import numpy as np\n",
    "import rpy2.robjects as robjects\n",
    "from rpy2.robjects import pandas2ri\n",
    "from rpy2.robjects.packages import importr\n",
    "from rpy2.robjects.conversion import localconverter\n",
    "\n",
    "import sys\n",
    "sys.path.append(PATH)\n",
    "\n",
    "from psyborgs import score_calculation, survey_bench_lib"
   ]
  },
  {
   "cell_type": "markdown",
   "id": "5b33bced",
   "metadata": {},
   "source": [
    "## Unpickle Raw Results"
   ]
  },
  {
   "cell_type": "code",
   "execution_count": null,
   "id": "8ddb7f9a",
   "metadata": {},
   "outputs": [],
   "source": [
    "df_raw_response_scores = pd.read_pickle(PKL_PATH)\n"
   ]
  },
  {
   "cell_type": "code",
   "execution_count": null,
   "id": "b1c218b1",
   "metadata": {},
   "outputs": [],
   "source": [
    "df_raw_response_scores"
   ]
  },
  {
   "cell_type": "code",
   "execution_count": null,
   "id": "afcf46d8",
   "metadata": {},
   "outputs": [],
   "source": [
    "SPID = ['item_preamble_id',\n",
    "        'item_postamble_id',\n",
    "        'response_scale_id',\n",
    "        'response_choice_postamble_id',\n",
    "        'model_id']\n",
    "\n",
    "BFI_SCALE_IDS = [\"BFI-EXT\", \"BFI-AGR\", \"BFI-CON\", \"BFI-NEU\", \"BFI-OPE\"]\n",
    "IPIP_SCALE_IDS = [\"IPIP300-EXT\", \"IPIP300-AGR\", \"IPIP300-CON\", \"IPIP300-NEU\", \"IPIP300-OPE\"]\n",
    "VALIDATION_SCALE_IDS = [\"PA\", \"NA\", \"CSE\", \"CPI\", \"PHYS\", \"VRBL\", \"ANGR\", \"HSTL\", \"ACHV\", \"CONF\", \"SCRT\"]"
   ]
  },
  {
   "cell_type": "code",
   "execution_count": null,
   "id": "8740e498",
   "metadata": {},
   "outputs": [],
   "source": [
    "test_df = df_raw_response_scores.query(\n",
    "    \"item_postamble_id == 'plk-bfi-0' & item_preamble_id == 'd33-th2' & item_id == 'bf1'\"\n",
    ")\n",
    "\n",
    "test_df"
   ]
  },
  {
   "cell_type": "markdown",
   "id": "413d0326",
   "metadata": {},
   "source": [
    "## Load Admin Session\n"
   ]
  },
  {
   "cell_type": "code",
   "execution_count": null,
   "id": "1de1538b",
   "metadata": {},
   "outputs": [],
   "source": [
    "admin_session = survey_bench_lib.load_admin_session(\n",
    "    ADMIN_SESSION_PATH)"
   ]
  },
  {
   "cell_type": "markdown",
   "id": "ae3ff445",
   "metadata": {},
   "source": [
    "# Score Session"
   ]
  },
  {
   "cell_type": "code",
   "execution_count": null,
   "id": "58248998",
   "metadata": {},
   "outputs": [],
   "source": [
    "# adapt df to match a df with scores for possible continuations\n",
    "df_raw_response_scores['score'] = 1\n",
    "df_raw_response_scores['response_value'] = df_raw_response_scores['model_output'].astype('int')"
   ]
  },
  {
   "cell_type": "code",
   "execution_count": null,
   "id": "f4225ed4",
   "metadata": {},
   "outputs": [],
   "source": [
    "# score session\n",
    "scored_session_df = score_calculation.score_session(\n",
    "    admin_session, df_raw_response_scores)\n",
    "\n",
    "scored_session_df.head(5)"
   ]
  },
  {
   "cell_type": "markdown",
   "id": "d5b31fea",
   "metadata": {},
   "source": [
    "# Descriptives"
   ]
  },
  {
   "cell_type": "code",
   "execution_count": null,
   "id": "913ab311",
   "metadata": {},
   "outputs": [],
   "source": [
    "pd.set_option('display.float_format', '{:.2f}'.format)"
   ]
  },
  {
   "cell_type": "markdown",
   "id": "7d453be6",
   "metadata": {},
   "source": [
    "### BFI and PANAS"
   ]
  },
  {
   "cell_type": "code",
   "execution_count": null,
   "id": "a693df3e",
   "metadata": {},
   "outputs": [],
   "source": [
    "scored_session_df[[\"BFI-EXT\", \"BFI-AGR\", \"BFI-CON\", \"BFI-NEU\", \"BFI-OPE\", \"PA\", \"NA\"]].describe().round(2)"
   ]
  },
  {
   "cell_type": "code",
   "execution_count": null,
   "id": "d950214c",
   "metadata": {
    "scrolled": true
   },
   "outputs": [],
   "source": [
    "fig = plt.figure(tight_layout=True)\n",
    "scored_session_df \\\n",
    "    [[\"BFI-EXT\", \"BFI-AGR\", \"BFI-CON\", \"BFI-NEU\", \"BFI-OPE\"]] \\\n",
    "    .hist(range=[1,5], alpha=1, figsize=(10, 7.5), sharey=True)\n",
    "\n",
    "plt.show()"
   ]
  },
  {
   "cell_type": "markdown",
   "id": "50ace18e",
   "metadata": {},
   "source": [
    "### IPIP-NEO-300"
   ]
  },
  {
   "cell_type": "code",
   "execution_count": null,
   "id": "90e2393c",
   "metadata": {},
   "outputs": [],
   "source": [
    "scored_session_df[[\"IPIP300-EXT\", \"IPIP300-AGR\", \"IPIP300-CON\", \"IPIP300-NEU\", \"IPIP300-OPE\"]].describe().round(2)"
   ]
  },
  {
   "cell_type": "code",
   "execution_count": null,
   "id": "efd36162",
   "metadata": {},
   "outputs": [],
   "source": [
    "fig = plt.figure(tight_layout=True)\n",
    "scored_session_df \\\n",
    "    [[\"IPIP300-EXT\", \"IPIP300-AGR\", \"IPIP300-CON\", \"IPIP300-NEU\", \"IPIP300-OPE\"]] \\\n",
    "    .hist(range=[1,5], alpha=1, figsize=(10, 7.5), sharey=True)\n",
    "\n",
    "plt.show()"
   ]
  },
  {
   "cell_type": "markdown",
   "id": "3972d39f",
   "metadata": {},
   "source": [
    "### Criterion Measures"
   ]
  },
  {
   "cell_type": "code",
   "execution_count": null,
   "id": "8c7a23a5",
   "metadata": {},
   "outputs": [],
   "source": [
    "scored_session_df[VALIDATION_SCALE_IDS].describe().round(2)"
   ]
  },
  {
   "cell_type": "markdown",
   "id": "19c3be1f",
   "metadata": {},
   "source": [
    "## Descriptives by Item Postamble"
   ]
  },
  {
   "cell_type": "markdown",
   "id": "c373e6d5",
   "metadata": {},
   "source": [
    "### IPIP-NEO-300"
   ]
  },
  {
   "cell_type": "code",
   "execution_count": null,
   "id": "3451aa29",
   "metadata": {},
   "outputs": [],
   "source": [
    "original_postamble = scored_session_df[\n",
    "    scored_session_df[\"item_postamble_id\"].str.endswith(\"-0\")] \\\n",
    "    [[\"IPIP300-EXT\", \"IPIP300-AGR\", \"IPIP300-CON\", \"IPIP300-NEU\", \"IPIP300-OPE\"]]\n",
    "\n",
    "postamble_3 = scored_session_df[\n",
    "    scored_session_df[\"item_postamble_id\"].str.endswith(\"-3\")] \\\n",
    "    [[\"IPIP300-EXT\", \"IPIP300-AGR\", \"IPIP300-CON\", \"IPIP300-NEU\", \"IPIP300-OPE\"]]\n",
    "\n",
    "postamble_9 = scored_session_df[\n",
    "    scored_session_df[\"item_postamble_id\"].str.endswith(\"-9\")] \\\n",
    "    [[\"IPIP300-EXT\", \"IPIP300-AGR\", \"IPIP300-CON\", \"IPIP300-NEU\", \"IPIP300-OPE\"]]\n",
    "\n",
    "postamble_103 = scored_session_df[\n",
    "    scored_session_df[\"item_postamble_id\"].str.endswith(\"-103\")] \\\n",
    "    [[\"IPIP300-EXT\", \"IPIP300-AGR\", \"IPIP300-CON\", \"IPIP300-NEU\", \"IPIP300-OPE\"]]\n",
    "\n",
    "postamble_109 = scored_session_df[\n",
    "    scored_session_df[\"item_postamble_id\"].str.endswith(\"-109\")] \\\n",
    "    [[\"IPIP300-EXT\", \"IPIP300-AGR\", \"IPIP300-CON\", \"IPIP300-NEU\", \"IPIP300-OPE\"]]"
   ]
  },
  {
   "cell_type": "code",
   "execution_count": null,
   "id": "0b0c56c2",
   "metadata": {},
   "outputs": [],
   "source": [
    "compare_postambles_df = pd.concat([original_postamble,\n",
    "                                   postamble_3, postamble_9,\n",
    "                                   postamble_103, postamble_109],\n",
    "                                  keys=[0, 3, 9, 103, 109])\n",
    "\n",
    "compare_postambles_df = compare_postambles_df.groupby(level=0)\n",
    "\n",
    "# summary = compare_postambles_df.describe()\n",
    "summary = compare_postambles_df.agg(['mean', 'std'])\n",
    "\n",
    "summary"
   ]
  },
  {
   "cell_type": "markdown",
   "id": "3bfed4bd",
   "metadata": {},
   "source": [
    "### Validation Measures"
   ]
  },
  {
   "cell_type": "code",
   "execution_count": null,
   "id": "4ee8931e",
   "metadata": {},
   "outputs": [],
   "source": [
    "original_postamble = scored_session_df[\n",
    "    scored_session_df[\"item_postamble_id\"].str.endswith(\"-0\")] \\\n",
    "    [VALIDATION_SCALE_IDS]\n",
    "\n",
    "postamble_3 = scored_session_df[\n",
    "    scored_session_df[\"item_postamble_id\"].str.endswith(\"-3\")] \\\n",
    "    [VALIDATION_SCALE_IDS]\n",
    "\n",
    "postamble_9 = scored_session_df[\n",
    "    scored_session_df[\"item_postamble_id\"].str.endswith(\"-9\")] \\\n",
    "    [VALIDATION_SCALE_IDS]\n",
    "\n",
    "postamble_103 = scored_session_df[\n",
    "    scored_session_df[\"item_postamble_id\"].str.endswith(\"-103\")] \\\n",
    "    [VALIDATION_SCALE_IDS]\n",
    "\n",
    "postamble_109 = scored_session_df[\n",
    "    scored_session_df[\"item_postamble_id\"].str.endswith(\"-109\")] \\\n",
    "    [VALIDATION_SCALE_IDS]\n",
    "\n",
    "compare_postambles_df = pd.concat([original_postamble,\n",
    "                                   postamble_3, postamble_9,\n",
    "                                   postamble_103, postamble_109],\n",
    "                                  keys=[0, 3, 9, 103, 109])\n",
    "\n",
    "compare_postambles_df = compare_postambles_df.groupby(level=0)\n",
    "\n",
    "# summary = compare_postambles_df.describe()\n",
    "summary = compare_postambles_df.agg(['mean', 'std'])\n",
    "\n",
    "summary"
   ]
  },
  {
   "cell_type": "markdown",
   "id": "e176734e",
   "metadata": {},
   "source": [
    "PVQ-RR Achievement, Conformity, Security values are slightly lower when using the original item postamble."
   ]
  },
  {
   "cell_type": "markdown",
   "id": "e9591669",
   "metadata": {},
   "source": [
    "# Criterion Validity"
   ]
  },
  {
   "cell_type": "markdown",
   "id": "39133287",
   "metadata": {},
   "source": [
    "## Calculate p-values"
   ]
  },
  {
   "cell_type": "code",
   "execution_count": null,
   "id": "104d62c8",
   "metadata": {},
   "outputs": [],
   "source": [
    "\n",
    "def calculate_pvalues(df):\n",
    "    dfcols = pd.DataFrame(columns=df.columns)\n",
    "    pvalues = dfcols.transpose().join(dfcols, how='outer')\n",
    "    for r in df.columns:\n",
    "        for c in df.columns:\n",
    "            tmp = df[df[r].notnull() & df[c].notnull()]\n",
    "            pvalues[r][c] = round(pearsonr(tmp[r], tmp[c])[1], 4)\n",
    "    return pvalues"
   ]
  },
  {
   "cell_type": "markdown",
   "id": "82d4bcb4",
   "metadata": {},
   "source": [
    "## BFI Intercorrelations"
   ]
  },
  {
   "cell_type": "code",
   "execution_count": null,
   "id": "57caa400",
   "metadata": {},
   "outputs": [],
   "source": [
    "scored_session_df[BFI_SCALE_IDS].corr()"
   ]
  },
  {
   "cell_type": "code",
   "execution_count": null,
   "id": "6ec21a74",
   "metadata": {},
   "outputs": [],
   "source": [
    "calculate_pvalues(scored_session_df[BFI_SCALE_IDS])"
   ]
  },
  {
   "cell_type": "markdown",
   "id": "acb1226e",
   "metadata": {},
   "source": [
    "## IPIP-NEO-300 Intercorrelations"
   ]
  },
  {
   "cell_type": "code",
   "execution_count": null,
   "id": "3bf9b03e",
   "metadata": {},
   "outputs": [],
   "source": [
    "scored_session_df[IPIP_SCALE_IDS].corr()"
   ]
  },
  {
   "cell_type": "code",
   "execution_count": null,
   "id": "1bf9f78f",
   "metadata": {},
   "outputs": [],
   "source": [
    "calculate_pvalues(scored_session_df[IPIP_SCALE_IDS])"
   ]
  },
  {
   "cell_type": "markdown",
   "id": "8d5fbb20",
   "metadata": {},
   "source": [
    "## BPAQ Intercorrelations"
   ]
  },
  {
   "cell_type": "code",
   "execution_count": null,
   "id": "3025abdc",
   "metadata": {},
   "outputs": [],
   "source": [
    "scored_session_df[[\"PHYS\", \"VRBL\", \"ANGR\", \"HSTL\"]].corr()"
   ]
  },
  {
   "cell_type": "code",
   "execution_count": null,
   "id": "4a34b64d",
   "metadata": {},
   "outputs": [],
   "source": [
    "calculate_pvalues(scored_session_df[[\"PHYS\", \"VRBL\", \"ANGR\", \"HSTL\"]])"
   ]
  },
  {
   "cell_type": "markdown",
   "id": "79741c44",
   "metadata": {},
   "source": [
    "## IPIP-NEO-300 Intercorrelations Across Item Postambles"
   ]
  },
  {
   "cell_type": "code",
   "execution_count": null,
   "id": "1b1efc08",
   "metadata": {
    "scrolled": true
   },
   "outputs": [],
   "source": [
    "scored_session_df \\\n",
    " .query(\"item_postamble_id == 'plk-ipip-0'\") \\\n",
    " [IPIP_SCALE_IDS].corr()"
   ]
  },
  {
   "cell_type": "code",
   "execution_count": null,
   "id": "dc9aafa6",
   "metadata": {},
   "outputs": [],
   "source": [
    "scored_session_df \\\n",
    " .query(\"item_postamble_id == 'plk-ipip-103'\") \\\n",
    " [IPIP_SCALE_IDS].corr()"
   ]
  },
  {
   "cell_type": "code",
   "execution_count": null,
   "id": "ad083ee2",
   "metadata": {},
   "outputs": [],
   "source": [
    "scored_session_df \\\n",
    " .query(\"item_postamble_id == 'plk-ipip-109'\") \\\n",
    " [IPIP_SCALE_IDS].corr()"
   ]
  },
  {
   "cell_type": "markdown",
   "id": "a6e6f37c",
   "metadata": {},
   "source": [
    "## PANAS Intercorrelations Across Item Postambles"
   ]
  },
  {
   "cell_type": "code",
   "execution_count": null,
   "id": "935fcd24",
   "metadata": {},
   "outputs": [],
   "source": [
    "scored_session_df \\\n",
    " .query(\"item_postamble_id == 'plk-panas-0'\") \\\n",
    " [[\"PA\", \"NA\"]].corr()"
   ]
  },
  {
   "cell_type": "code",
   "execution_count": null,
   "id": "58495875",
   "metadata": {},
   "outputs": [],
   "source": [
    "scored_session_df \\\n",
    " .query(\"item_postamble_id == 'plk-panas-103'\") \\\n",
    " [[\"PA\", \"NA\"]].corr()"
   ]
  },
  {
   "cell_type": "code",
   "execution_count": null,
   "id": "1b07aeea",
   "metadata": {},
   "outputs": [],
   "source": [
    "scored_session_df \\\n",
    " .query(\"item_postamble_id == 'plk-panas-109'\") \\\n",
    " [[\"PA\", \"NA\"]].corr()"
   ]
  },
  {
   "cell_type": "markdown",
   "id": "b48f5e17",
   "metadata": {},
   "source": [
    "# Join Data"
   ]
  },
  {
   "cell_type": "code",
   "execution_count": null,
   "id": "16d53193",
   "metadata": {},
   "outputs": [],
   "source": [
    "# simulated participant ID combo\n",
    "SPID_2 = ['item_preamble_id',\n",
    "          'item_postamble_id',\n",
    "          'response_choice_postamble_id',\n",
    "          'model_id']\n",
    "\n",
    "scored_bfi = scored_session_df[\n",
    "    SPID_2 + [\"response_scale_id\"] + BFI_SCALE_IDS\n",
    "    ].query(\"item_postamble_id.str.contains(\\'bfi')\")"
   ]
  },
  {
   "cell_type": "code",
   "execution_count": null,
   "id": "ec3ace6e",
   "metadata": {},
   "outputs": [],
   "source": [
    "# simulated participant ID combo\n",
    "SPID_2 = ['item_preamble_id',\n",
    "          'item_postamble_id',\n",
    "          'response_choice_postamble_id',\n",
    "          'model_id']\n",
    "\n",
    "scored_bfi = scored_session_df[\n",
    "    SPID_2 + [\"response_scale_id\"] + BFI_SCALE_IDS\n",
    "    ].query(\"item_postamble_id.str.contains(\\'bfi')\")\n",
    "\n",
    "scored_ipip = scored_session_df[\n",
    "    SPID_2 + [\"response_scale_id\"] + IPIP_SCALE_IDS\n",
    "    ].query(\"item_postamble_id.str.contains(\\'ipip')\")\n",
    "\n",
    "scored_panas = scored_session_df[\n",
    "    SPID_2 + [\n",
    "        \"response_scale_id\", \"PA\", \"NA\"\n",
    "    ]].query(\"item_postamble_id.str.contains(\\'panas')\")\n",
    "\n",
    "scored_sscs = scored_session_df[\n",
    "    SPID_2 + [\n",
    "        \"response_scale_id\", \"CSE\", \"CPI\"\n",
    "    ]].query(\"item_postamble_id.str.contains(\\'sscs')\")\n",
    "\n",
    "scored_bpaq = scored_session_df[\n",
    "    SPID_2 + [\n",
    "        \"response_scale_id\", \"PHYS\", \"VRBL\", \"ANGR\", \"HSTL\"\n",
    "    ]].query(\"item_postamble_id.str.contains(\\'bpaq')\")\n",
    "\n",
    "scored_pvq = scored_session_df[\n",
    "    SPID_2 + [\n",
    "        \"response_scale_id\", \"ACHV\", \"CONF\", \"SCRT\"\n",
    "    ]].query(\"item_postamble_id.str.contains(\\'pvq')\")\n",
    "\n",
    "# create common postamble IDs\n",
    "scored_bfi[\"common_item_postamble_id\"] = scored_bfi.item_postamble_id.str.findall(r'\\d+$').str[0]\n",
    "scored_ipip[\"common_item_postamble_id\"] = scored_ipip.item_postamble_id.str.findall(r'\\d+$').str[0]\n",
    "scored_panas[\"common_item_postamble_id\"] = scored_panas.item_postamble_id.str.findall(r'\\d+$').str[0]\n",
    "scored_sscs[\"common_item_postamble_id\"] = scored_sscs.item_postamble_id.str.findall(r'\\d+$').str[0]\n",
    "scored_bpaq[\"common_item_postamble_id\"] = scored_bpaq.item_postamble_id.str.findall(r'\\d+$').str[0]\n",
    "scored_pvq[\"common_item_postamble_id\"] = scored_pvq.item_postamble_id.str.findall(r'\\d+$').str[0]\n",
    "\n",
    "# join by common IDs\n",
    "# simulated participant ID combo\n",
    "SPID_3 = ['item_preamble_id',\n",
    "          'common_item_postamble_id',\n",
    "          'response_choice_postamble_id',\n",
    "          'model_id']\n",
    "\n",
    "# all scored DFs\n",
    "all_scored_dfs = [scored_bfi, scored_ipip, scored_panas, scored_sscs, scored_bpaq, scored_pvq]\n",
    "\n",
    "scored_joined = pd.merge(scored_bfi, scored_ipip, on=SPID_3, suffixes=('', '_DROP')) \\\n",
    "    .filter(regex='^(?!.*_DROP)') \\\n",
    "    .merge(scored_panas, on=SPID_3, suffixes=('', '_DROP')) \\\n",
    "    .filter(regex='^(?!.*_DROP)') \\\n",
    "    .merge(scored_sscs, on=SPID_3, suffixes=('', '_DROP')) \\\n",
    "    .filter(regex='^(?!.*_DROP)') \\\n",
    "    .merge(scored_bpaq, on=SPID_3, suffixes=('', '_DROP')) \\\n",
    "    .filter(regex='^(?!.*_DROP)') \\\n",
    "    .merge(scored_pvq, on=SPID_3, suffixes=('', '_DROP')) \\\n",
    "    .filter(regex='^(?!.*_DROP)')\n",
    "# scored_joined = reduce(lambda left,right: pd.merge(left, right, left_index=True, right_index=True, how='outer', suffixes=('', '_DROP')).filter(regex='^(?!.*_DROP)'), all_scored_dfs)"
   ]
  },
  {
   "cell_type": "code",
   "execution_count": null,
   "id": "009af25f",
   "metadata": {},
   "outputs": [],
   "source": [
    "scored_joined"
   ]
  },
  {
   "cell_type": "code",
   "execution_count": null,
   "id": "43cc31f4-154a-49e3-80c0-ef81b260aea0",
   "metadata": {},
   "outputs": [],
   "source": [
    "# optional: save scores to disk\n",
    "if SAVE_SCORES_FILENAME:\n",
    "    scored_joined.to_pickle(SAVE_SCORES_FILENAME)"
   ]
  },
  {
   "cell_type": "markdown",
   "id": "61b7ab35",
   "metadata": {},
   "source": [
    "# Joined Correlations"
   ]
  },
  {
   "cell_type": "markdown",
   "id": "052118f4",
   "metadata": {},
   "source": [
    "## BFI and IPIP-NEO-300"
   ]
  },
  {
   "cell_type": "code",
   "execution_count": null,
   "id": "a032c82c",
   "metadata": {},
   "outputs": [],
   "source": [
    "scored_joined[BFI_SCALE_IDS + IPIP_SCALE_IDS].corr().round(2)"
   ]
  },
  {
   "cell_type": "code",
   "execution_count": null,
   "id": "f4182264",
   "metadata": {},
   "outputs": [],
   "source": [
    "calculate_pvalues(scored_joined[BFI_SCALE_IDS + IPIP_SCALE_IDS])"
   ]
  },
  {
   "cell_type": "markdown",
   "id": "16513007",
   "metadata": {},
   "source": [
    "## Convergent & Discriminant Validity"
   ]
  },
  {
   "cell_type": "code",
   "execution_count": null,
   "id": "597cda8c",
   "metadata": {},
   "outputs": [],
   "source": [
    "def get_avg_abs_discriminant_values(df):\n",
    "    # use only absolute values\n",
    "    abs_corr = abs(df)\n",
    "    \n",
    "    # get array length\n",
    "    abs_corr_len = len(abs_corr)\n",
    "\n",
    "    # get indices of diagonal elements\n",
    "    dia = np.diag_indices(abs_corr_len)\n",
    "\n",
    "    # get sum of diagonal elements\n",
    "    dia_sum = sum(np.array(abs_corr)[dia])\n",
    "    # dia_sum = sum(abs_corr[dia])    \n",
    "\n",
    "    # get sum of off-diagonal elements\n",
    "    off_dia_sum = np.sum(np.array(abs_corr)) - dia_sum\n",
    "    # off_dia_sum = np.sum(abs_corr) - dia_sum\n",
    "\n",
    "    # get number of off-diagonal elements\n",
    "    off_dia_n = abs_corr.size - len(abs_corr)\n",
    "\n",
    "    # calc average of off-diagonal elements\n",
    "    off_dia_avg = off_dia_sum / off_dia_n\n",
    "\n",
    "    return(off_dia_avg)\n",
    "\n",
    "\n",
    "def get_diag_avg(df):\n",
    "\n",
    "    # get array length\n",
    "    df_len = len(df)\n",
    "    \n",
    "    # get indices of diagonal elements\n",
    "    dia = np.diag_indices(df_len)\n",
    "\n",
    "    # get sum of diagonal elements\n",
    "    dia_sum = sum(np.array(df)[dia])\n",
    "    \n",
    "    # calculate avg\n",
    "    dia_avg = dia_sum / df_len\n",
    "    \n",
    "    return dia_avg\n",
    "\n",
    "\n",
    "def get_convergent_corrs(df):\n",
    "    corrs = df[BFI_SCALE_IDS + IPIP_SCALE_IDS].corr().filter(items = IPIP_SCALE_IDS, axis = 0)[BFI_SCALE_IDS]\n",
    "    return corrs\n",
    "\n",
    "\n",
    "def get_model_level_convergent_corrs(df, model_id):\n",
    "    model_df = df.query(f\"model_id == '{model_id}'\")\n",
    "    corrs = get_convergent_corrs(model_df)\n",
    "    return corrs\n",
    "\n",
    "\n",
    "def get_avg_discriminant_corrs(df):\n",
    "    convergent_corrs = get_convergent_corrs(df)\n",
    "    avg_discriminant_corrs = get_avg_abs_discriminant_values(convergent_corrs)\n",
    "    return avg_discriminant_corrs\n",
    "\n",
    "\n",
    "def get_avg_convergent_corrs(df):\n",
    "    convergent_corrs = get_convergent_corrs(df)\n",
    "    avg_convergent_corrs = get_diag_avg(convergent_corrs)\n",
    "    return avg_convergent_corrs\n",
    "\n",
    "\n",
    "def get_remaining_row_col_vals(df, element_row_i, element_col_i):\n",
    "    \"\"\"Returns all other row values for a given element in a df\"\"\"\n",
    "    df_len = len(df)\n",
    "    vals = []\n",
    "    \n",
    "    for row_i in range(df_len):\n",
    "        if row_i != element_row_i:\n",
    "            vals.append(df.iloc[element_col_i, row_i])\n",
    "    \n",
    "    for col_i in range(df_len):\n",
    "        if col_i != element_col_i:\n",
    "            vals.append(df.iloc[col_i, element_row_i])\n",
    "    \n",
    "    return vals\n",
    "            \n",
    "    \n",
    "def get_diagonal_indices(df):\n",
    "    # get array length\n",
    "    df_len = len(df)\n",
    "    \n",
    "    # get indices of diagonal elements\n",
    "    dia = np.diag_indices(df_len)\n",
    "    \n",
    "    return dia    \n",
    "\n",
    "\n",
    "def get_diffs(ref_val, comparison_vals):\n",
    "    diffs = [ref_val - abs(off_val) for off_val in comparison_vals]\n",
    "    return diffs\n",
    "\n",
    "\n",
    "def get_avg_diff(ref_val, comparison_vals):\n",
    "    # get difference between a reference value and absolute versions of comparison values\n",
    "    diffs = get_diffs(ref_val, comparison_vals)\n",
    "    return np.mean(diffs)\n",
    "\n",
    "\n",
    "def get_diag_offdiag_diffs(df):\n",
    "    # get diag indices\n",
    "    dia = get_diagonal_indices(df)\n",
    "    dia = list(map(list, zip(dia[0], dia[1])))\n",
    "    \n",
    "    # print(dia)\n",
    "    \n",
    "    all_diag_offdiag_diffs = []\n",
    "        \n",
    "    for i in range(len(df)):\n",
    "        ref_val = df.iloc[i, i]\n",
    "        comparison_vals = get_remaining_row_col_vals(df, i, i)\n",
    "        diffs = get_diffs(ref_val, comparison_vals)\n",
    "        \n",
    "        all_diag_offdiag_diffs += diffs\n",
    "        \n",
    "    return all_diag_offdiag_diffs\n",
    "\n",
    "\n",
    "def get_avg_diag_offdiag_diffs(df):\n",
    "    diag_offdiag_diffs = get_diag_offdiag_diffs(df)\n",
    "    return np.mean(diag_offdiag_diffs)"
   ]
  },
  {
   "cell_type": "code",
   "execution_count": null,
   "id": "073ca056",
   "metadata": {},
   "outputs": [],
   "source": [
    "pd.set_option('display.float_format', '{:.3f}'.format)\n",
    "# subset discriminant correlations\n",
    "mtmm = scored_joined[BFI_SCALE_IDS + IPIP_SCALE_IDS].corr()[IPIP_SCALE_IDS][0:5]\n",
    "mtmm"
   ]
  },
  {
   "cell_type": "code",
   "execution_count": null,
   "id": "18820b96",
   "metadata": {},
   "outputs": [],
   "source": [
    "# subset convergent correlations\n",
    "pd.DataFrame(np.diag(scored_joined[BFI_SCALE_IDS + IPIP_SCALE_IDS].corr().iloc[0:5,5:10])).transpose()"
   ]
  },
  {
   "cell_type": "code",
   "execution_count": null,
   "id": "09e7673f",
   "metadata": {},
   "outputs": [],
   "source": [
    "# avg convergent correlation\n",
    "get_avg_convergent_corrs(scored_joined)"
   ]
  },
  {
   "cell_type": "code",
   "execution_count": null,
   "id": "7e810b41",
   "metadata": {},
   "outputs": [],
   "source": [
    "# avg discriminant correlation\n",
    "get_avg_discriminant_corrs(scored_joined)"
   ]
  },
  {
   "cell_type": "code",
   "execution_count": null,
   "id": "8b394994",
   "metadata": {},
   "outputs": [],
   "source": [
    "convergent_corrs = get_model_level_convergent_corrs(\n",
    "    scored_joined, MODEL_POINTER)\n",
    "get_avg_diag_offdiag_diffs(convergent_corrs)"
   ]
  },
  {
   "cell_type": "markdown",
   "id": "22779ab6",
   "metadata": {},
   "source": [
    "## IPIP-NEO-300 and Validation Scales"
   ]
  },
  {
   "cell_type": "markdown",
   "id": "215cce7a",
   "metadata": {},
   "source": [
    "**Extraversion**\n",
    "* Should correlate positively with PANAS Positive Affect.\n",
    "* Should correlate negatively with NEU, PANAS Negative Affect.\n",
    "* Discriminant validity: strongest positive correlate of PANAS Positive Affect\n",
    "\n",
    "**Agreeableness**\n",
    "* Should correlate negatively with BPAQ Physical Aggression, Verbal Aggression, Anger, and Hostility.\n",
    "* Should correlate positively with PVQ-RR Conformity.\n",
    "* Discriminant validity: \n",
    "\n",
    "**Conscientiousness**\n",
    "* Should correlate positively with PVQ-RR broad values of Achievement, Conformity, Security.\n",
    "* Discriminant validity: competes a bit with AGR in terms of relating to CONF, SCRT, but this might be because of suppressor effects. If we look at the CON facets of Orderliness (C2; likes order and regularlity, to tidy up), and Dutifulness (C3; following rules, keeping promises), and perhaps Cautiousness (C6; being careful, not doing crazy things), we will see stronger convergent correlations and better discriminant validity.\n",
    "\n",
    "**Neuroticism**\n",
    "* Should negatively correlate with EXT, AGR, CON, PANAS Positive Affect.\n",
    "* Should positively correlate with PANAS Negative Affect.\n",
    "* Should positively correlate with measures of aggression.\n",
    "\n",
    "**Openness**\n",
    "* Should positively correlate with SSCS Creative Self-Efficacy and SSCS Creative Personal Identity.\n",
    "* (should be no or a negative correlation with ACHV, CONF, SCRT)"
   ]
  },
  {
   "cell_type": "code",
   "execution_count": null,
   "id": "02a77815",
   "metadata": {},
   "outputs": [],
   "source": [
    "scored_joined[IPIP_SCALE_IDS + VALIDATION_SCALE_IDS].corr().round(2)"
   ]
  },
  {
   "cell_type": "code",
   "execution_count": null,
   "id": "93d4020e",
   "metadata": {},
   "outputs": [],
   "source": [
    "calculate_pvalues(scored_joined[IPIP_SCALE_IDS + VALIDATION_SCALE_IDS])"
   ]
  },
  {
   "cell_type": "code",
   "execution_count": null,
   "id": "d5450434",
   "metadata": {},
   "outputs": [],
   "source": [
    "# EXT\n",
    "scored_joined \\\n",
    "    .groupby(\"model_id\", sort=False) \\\n",
    "    [['IPIP300-EXT'] + [\"PA\", \"NA\"]] \\\n",
    "    .corr().round(2).unstack()['IPIP300-EXT'].T \\\n",
    "    .iloc[1:].rename_axis(\"Scale\", axis=1)"
   ]
  },
  {
   "cell_type": "code",
   "execution_count": null,
   "id": "a4087735",
   "metadata": {},
   "outputs": [],
   "source": [
    "# AGR\n",
    "scored_joined \\\n",
    "    .groupby(\"model_id\", sort=False) \\\n",
    "    [['IPIP300-AGR'] + [\"PHYS\", \"VRBL\", \"ANGR\", \"HSTL\"]] \\\n",
    "    .corr().round(2).unstack()['IPIP300-AGR'].T \\\n",
    "    .iloc[1:].rename_axis(\"Scale\", axis=1)"
   ]
  },
  {
   "cell_type": "code",
   "execution_count": null,
   "id": "3225a5c2",
   "metadata": {},
   "outputs": [],
   "source": [
    "# CON\n",
    "scored_joined \\\n",
    "    .groupby(\"model_id\", sort=False) \\\n",
    "    [['IPIP300-CON'] + [\"ACHV\", \"CONF\", \"SCRT\"]] \\\n",
    "    .corr().round(2).unstack()['IPIP300-CON'].T \\\n",
    "    .iloc[1:].rename_axis(\"Scale\", axis=1)"
   ]
  },
  {
   "cell_type": "code",
   "execution_count": null,
   "id": "39180c90",
   "metadata": {},
   "outputs": [],
   "source": [
    "# NEU\n",
    "scored_joined \\\n",
    "    .groupby(\"model_id\", sort=False) \\\n",
    "    [['IPIP300-NEU'] + [\"PA\", \"NA\"]] \\\n",
    "    .corr().round(2).unstack()['IPIP300-NEU'].T \\\n",
    "    .iloc[1:].rename_axis(\"Scale\", axis=1)"
   ]
  },
  {
   "cell_type": "code",
   "execution_count": null,
   "id": "047234cd",
   "metadata": {},
   "outputs": [],
   "source": [
    "# OPE\n",
    "scored_joined \\\n",
    "    .groupby(\"model_id\", sort=False) \\\n",
    "    [['IPIP300-OPE'] + [\"CSE\", \"CPI\"]] \\\n",
    "    .corr().round(2).unstack()['IPIP300-OPE'].T \\\n",
    "    .iloc[1:].rename_axis(\"Scale\", axis=1)"
   ]
  },
  {
   "cell_type": "markdown",
   "id": "2f12634f",
   "metadata": {},
   "source": [
    "## BFI and Validation Scales"
   ]
  },
  {
   "cell_type": "code",
   "execution_count": null,
   "id": "32de4e2d",
   "metadata": {},
   "outputs": [],
   "source": [
    "scored_joined[BFI_SCALE_IDS + VALIDATION_SCALE_IDS].corr().round(2)"
   ]
  },
  {
   "cell_type": "code",
   "execution_count": null,
   "id": "e3d02e6f",
   "metadata": {},
   "outputs": [],
   "source": [
    "calculate_pvalues(scored_joined[BFI_SCALE_IDS + VALIDATION_SCALE_IDS])"
   ]
  },
  {
   "cell_type": "markdown",
   "id": "63d2dc04",
   "metadata": {},
   "source": [
    "# R Analysis"
   ]
  },
  {
   "cell_type": "markdown",
   "id": "201075ff",
   "metadata": {},
   "source": [
    "## Reliability Functionalized"
   ]
  },
  {
   "cell_type": "code",
   "execution_count": null,
   "id": "599708e2",
   "metadata": {},
   "outputs": [],
   "source": [
    "def launch_r_instance(psychometric_utils_path: str) -> None:\n",
    "    # load R instance\n",
    "    global r\n",
    "    r = robjects.r\n",
    "\n",
    "    # source R script\n",
    "    r['source'](psychometric_utils_path)\n",
    "\n",
    "    # load function(s) within script\n",
    "    global tidyjson_r\n",
    "    tidyjson_r = importr('tidyjson')\n",
    "    # admin_session_to_nested_key_r = robjects.globalenv['admin_session_to_nested_key']\n",
    "    # score_subscale_r = robjects.globalenv['score_subscale']\n",
    "    \n",
    "    global subscale_reliability_r\n",
    "    subscale_reliability_r = robjects.globalenv['subscale_reliability']\n",
    "\n",
    "\n",
    "def load_r_scored_session(scored_session_df: pd.DataFrame) -> pd.DataFrame:\n",
    "    \"\"\"Load scored_session_df in R.\"\"\"\n",
    "    with localconverter(robjects.default_converter + pandas2ri.converter):\n",
    "      scored_session_df_r = robjects.conversion.py2rpy(scored_session_df)\n",
    "    \n",
    "    return scored_session_df_r\n",
    "\n",
    "def compute_reliability_indices_per_scale(admin_session, admin_session_r, scored_session_df_r, **kwargs):   \n",
    "    # create list of scores to be later converted into the output dataframe    \n",
    "    score_list = []\n",
    "\n",
    "    # compute reliability for each scale in an admin_session\n",
    "    # if a particular reliability index can't be estimated, record as NA\n",
    "    for measure_id, measure in admin_session.measures.items():\n",
    "        for scale_id in measure.scales:\n",
    "\n",
    "            # try computing Cronbach's Alpha\n",
    "            try:\n",
    "                alpha = subscale_reliability_r(admin_session_r, scored_session_df_r, measure_id, scale_id, \"alpha\")[0]\n",
    "            except Exception as e:\n",
    "                print(f\"An error occurred while calculating alpha for measure {measure_id} and scale {scale_id}: {e}\")\n",
    "                alpha = np.nan\n",
    "\n",
    "            # try computing McDonald's Omega\n",
    "            try:\n",
    "                omega = subscale_reliability_r(admin_session_r, scored_session_df_r, measure_id, scale_id, \"omega\")[0]\n",
    "            except Exception as e:\n",
    "                print(f\"An error occurred while calculating omega for measure {measure_id} and scale {scale_id}: {e}\")\n",
    "                omega = np.nan\n",
    "\n",
    "            # try computing Guttman's Lambda 6\n",
    "            try:\n",
    "                g6 = subscale_reliability_r(admin_session_r, scored_session_df_r, measure_id, scale_id, \"G6\")[0]\n",
    "            except Exception as e:\n",
    "                print(f\"An error occurred while calculating G6 for measure {measure_id} and scale {scale_id}: {e}\")\n",
    "                g6 = np.nan\n",
    "\n",
    "            # add the above reliability estimates to running score_list\n",
    "            score_list.append([measure_id, scale_id, alpha, omega, g6])\n",
    "\n",
    "    # combine accumulated estimates into one dataframe\n",
    "    reliabilities_df = pd.DataFrame(score_list, columns=['measure_id', 'scale_id', 'alpha', 'omega', 'g6'])\n",
    "    \n",
    "    return reliabilities_df\n",
    "\n",
    "def run_reliability_analysis_in_r(psychometric_utils_path: str,\n",
    "                                  scored_session_df: pd.DataFrame,\n",
    "                                  admin_session_json_path: str) -> pd.DataFrame:\n",
    "    # launch R instance\n",
    "    launch_r_instance(psychometric_utils_path)\n",
    "    \n",
    "    # load admin_session in R\n",
    "    admin_session_r = tidyjson_r.read_json(admin_session_json_path)\n",
    "    \n",
    "    # load scored_session_df into R\n",
    "    scored_session_df_r = load_r_scored_session(scored_session_df)\n",
    "    \n",
    "    # load main admin_session\n",
    "    admin_session = survey_bench_lib.load_admin_session(\n",
    "        admin_session_json_path)\n",
    "    \n",
    "    # compute reliability indices per scale\n",
    "    reliabilities_df = compute_reliability_indices_per_scale(\n",
    "        admin_session, admin_session_r, scored_session_df_r)\n",
    "    \n",
    "    return reliabilities_df"
   ]
  },
  {
   "cell_type": "code",
   "execution_count": null,
   "id": "33f0c20b",
   "metadata": {
    "scrolled": true
   },
   "outputs": [],
   "source": [
    "reliabilities = run_reliability_analysis_in_r(\n",
    "    psychometric_utils_path=PSYCHOMETRIC_UTILS_PATH,\n",
    "    scored_session_df=scored_session_df,\n",
    "    admin_session_json_path=ADMIN_SESSION_PATH\n",
    ")"
   ]
  },
  {
   "cell_type": "code",
   "execution_count": null,
   "id": "12fefb5a",
   "metadata": {},
   "outputs": [],
   "source": [
    "reliabilities"
   ]
  }
 ],
 "metadata": {
  "kernelspec": {
   "display_name": "llama",
   "language": "python",
   "name": "python3"
  },
  "language_info": {
   "codemirror_mode": {
    "name": "ipython",
    "version": 3
   },
   "file_extension": ".py",
   "mimetype": "text/x-python",
   "name": "python",
   "nbconvert_exporter": "python",
   "pygments_lexer": "ipython3",
   "version": "3.10.13"
  }
 },
 "nbformat": 4,
 "nbformat_minor": 5
}
